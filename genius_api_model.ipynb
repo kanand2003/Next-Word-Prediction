{
  "cells": [
    {
      "cell_type": "markdown",
      "metadata": {
        "id": "nPzHSsZENhmb"
      },
      "source": [
        "#NEXT WORD PREDICTION PROJECT\n"
      ]
    },
    {
      "cell_type": "markdown",
      "source": [
        "NOTE: This is the model training file. The model has already been trained and saved in 'nextword1.h5'.\n",
        "You DO NOT need to execute this notebook. \n",
        "\n",
        "In case you choose to, remember that training takes time, and resources. You are suggested to switch the runtime to GPU on Google Colab for training the model.\n",
        "\n",
        "1) Before executing the notebook, make a file called 'genius_api_key.py' on your system and paste the following:\n",
        "\n",
        "client_access_token = \" {your token here} \"\n",
        "\n",
        "Upload this file when running the first cell.\n",
        "\n",
        "\n",
        "\n",
        "\n",
        "2) Mount your Drive on colab and before running the code, \n",
        "\n",
        "make a new folder called 'ACM_Project' in your Drive such that its path is \"/content/drive/MyDrive/ACM_Project\"."
      ],
      "metadata": {
        "id": "ZufbKy8QQNEn"
      }
    },
    {
      "cell_type": "code",
      "source": [
        "from google.colab import files\n",
        "files.upload()"
      ],
      "metadata": {
        "id": "9G1tgozJPFVm",
        "colab": {
          "resources": {
            "http://localhost:8080/nbextensions/google.colab/files.js": {
              "data": "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",
              "ok": true,
              "headers": [
                [
                  "content-type",
                  "application/javascript"
                ]
              ],
              "status": 200,
              "status_text": ""
            }
          },
          "base_uri": "https://localhost:8080/",
          "height": 91
        },
        "outputId": "3013fe35-2723-4460-ee4b-a6e73ca96d77"
      },
      "execution_count": null,
      "outputs": [
        {
          "output_type": "display_data",
          "data": {
            "text/plain": [
              "<IPython.core.display.HTML object>"
            ],
            "text/html": [
              "\n",
              "     <input type=\"file\" id=\"files-73dc7ad0-8a24-42ff-ba9f-b1ea88099ec1\" name=\"files[]\" multiple disabled\n",
              "        style=\"border:none\" />\n",
              "     <output id=\"result-73dc7ad0-8a24-42ff-ba9f-b1ea88099ec1\">\n",
              "      Upload widget is only available when the cell has been executed in the\n",
              "      current browser session. Please rerun this cell to enable.\n",
              "      </output>\n",
              "      <script src=\"/nbextensions/google.colab/files.js\"></script> "
            ]
          },
          "metadata": {}
        },
        {
          "output_type": "stream",
          "name": "stdout",
          "text": [
            "Saving genius_api_key.py to genius_api_key (1).py\n"
          ]
        },
        {
          "output_type": "execute_result",
          "data": {
            "text/plain": [
              "{'genius_api_key.py': b'client_access_token=\"sp63zDqfWmym_nSbuueKxOVwhdUcmR04kLSs4CWBSyjmOe82gLVqygx0F-Sye7sK\"'}"
            ]
          },
          "metadata": {},
          "execution_count": 21
        }
      ]
    },
    {
      "cell_type": "code",
      "execution_count": null,
      "metadata": {
        "id": "2f33kuXRJtwj"
      },
      "outputs": [],
      "source": [
        "from genius_api_key import client_access_token"
      ]
    },
    {
      "cell_type": "code",
      "execution_count": null,
      "metadata": {
        "id": "UaQf0Fg2J7Lp",
        "colab": {
          "base_uri": "https://localhost:8080/"
        },
        "outputId": "8ddad387-6729-44b0-d642-43486d61f1a6"
      },
      "outputs": [
        {
          "output_type": "stream",
          "name": "stdout",
          "text": [
            "Looking in indexes: https://pypi.org/simple, https://us-python.pkg.dev/colab-wheels/public/simple/\n",
            "Requirement already satisfied: lyricsgenius in /usr/local/lib/python3.7/dist-packages (3.0.1)\n",
            "Requirement already satisfied: beautifulsoup4>=4.6.0 in /usr/local/lib/python3.7/dist-packages (from lyricsgenius) (4.6.3)\n",
            "Requirement already satisfied: requests>=2.20.0 in /usr/local/lib/python3.7/dist-packages (from lyricsgenius) (2.23.0)\n",
            "Requirement already satisfied: urllib3!=1.25.0,!=1.25.1,<1.26,>=1.21.1 in /usr/local/lib/python3.7/dist-packages (from requests>=2.20.0->lyricsgenius) (1.24.3)\n",
            "Requirement already satisfied: certifi>=2017.4.17 in /usr/local/lib/python3.7/dist-packages (from requests>=2.20.0->lyricsgenius) (2022.6.15)\n",
            "Requirement already satisfied: idna<3,>=2.5 in /usr/local/lib/python3.7/dist-packages (from requests>=2.20.0->lyricsgenius) (2.10)\n",
            "Requirement already satisfied: chardet<4,>=3.0.2 in /usr/local/lib/python3.7/dist-packages (from requests>=2.20.0->lyricsgenius) (3.0.4)\n"
          ]
        }
      ],
      "source": [
        "from genius_api_key import client_access_token\n",
        "!pip install lyricsgenius\n",
        "import lyricsgenius\n",
        "genius = lyricsgenius.Genius(client_access_token, timeout = 120)\n",
        "import requests"
      ]
    },
    {
      "cell_type": "markdown",
      "metadata": {
        "id": "G9RKiwyXOR16"
      },
      "source": [
        "Retrieving Artist ID from Genius"
      ]
    },
    {
      "cell_type": "code",
      "execution_count": null,
      "metadata": {
        "id": "8_YUHG5BKiVN"
      },
      "outputs": [],
      "source": [
        "artistNames = [\"Taylor Swift\",\"Ariana Grande\", \"Halsey\", \"Olivia Rodrigo\", \"Maisie Peters\", \"Gracie Abrams\"]\n",
        "artistID =[]\n",
        "for artistName in artistNames:\n",
        "    response = requests.get(f\"http://api.genius.com/search?q={artistName}&access_token={client_access_token}\")\n",
        "    json_data = response.json()\n",
        "    list_index = 0\n",
        "    read_name = json_data['response']['hits'][0]['result']['artist_names']\n",
        "    while (read_name != artistName) :\n",
        "        list_index += 1\n",
        "        read_name = json_data['response']['hits'][list_index]['result']['artist_names']\n",
        "    artistID.append(json_data['response']['hits'][list_index]['result']['primary_artist']['id'])"
      ]
    },
    {
      "cell_type": "markdown",
      "metadata": {
        "id": "LF_22vtfOans"
      },
      "source": [
        "Retrieving artist's albums and album IDs from Genius"
      ]
    },
    {
      "cell_type": "markdown",
      "metadata": {
        "id": "Ab-07wNGOoFI"
      },
      "source": [
        "*Checking for album in taylorswift_albums because Genius has several different versions of the same album depending upon release and it would create multiple copies of the same data*"
      ]
    },
    {
      "cell_type": "code",
      "execution_count": null,
      "metadata": {
        "id": "SRbRnAhiKkuw"
      },
      "outputs": [],
      "source": [
        "albumNames = []\n",
        "albumIDs = []\n",
        "all_albums = [\"Taylor Swift\" , \"Fearless (Taylor’s Version)\" , \"Speak Now\" , \"Red (Taylor’s Version)\" , \"1989 (Deluxe)\" , \"reputation\" , \"Lover\" , \"folklore\" , \"evermore\", \"Yours Truly\", \"My Everything\", \"thank u, next\", \"Sweetener\", \"Dangerous Woman\", \"Positions\",\"Badlands\", \"Hopeless Fountain Kingdom\", \"Manic\", \"If I Can't Have Love, I Want Power\", \"Sour\", \"You Signed Up For This\", \"It’s Your Bed Babe, It’s Your Funeral - EP\", \"Dressed Too Nice for a Jacket - EP\", \"Trying: Season 2 (Apple TV+ Original Series Soundtrack)\", \"minor\", \"This Is What It Feels Like\"]\n",
        "for ID in artistID:\n",
        "    artistAlbums = genius.artist_albums( ID, per_page=50, page = 1 )\n",
        "    for album in artistAlbums['albums'] :\n",
        "        if album['name'] in all_albums :\n",
        "            albumNames.append( album['name'] )\n",
        "            albumIDs.append( album['id'] )\n",
        "    try:\n",
        "        artistAlbums = genius.artist_albums( ID, per_page=50, page = 2 )\n",
        "        for album in artistAlbums['albums'] :\n",
        "                if album['name'] in all_albums :\n",
        "                    albumNames.append( album['name'] )\n",
        "                    albumIDs.append( album['id']) \n",
        "        artistAlbums = genius.artist_albums( ID, per_page=50, page = 3 )\n",
        "        for album in artistAlbums['albums'] :\n",
        "            if album['name'] in all_albums :\n",
        "                albumNames.append( album['name'] )\n",
        "                albumIDs.append( album['id'] )\n",
        "    except:\n",
        "        print(\"not found\")\n"
      ]
    },
    {
      "cell_type": "code",
      "source": [
        "import pandas as pd\n",
        "songDetails = pd.DataFrame(albumNames, index = [list(range(1, len(albumIDs) + 1))], columns = [\"Album Names\"])"
      ],
      "metadata": {
        "id": "KX2wkMoWFRfe"
      },
      "execution_count": null,
      "outputs": []
    },
    {
      "cell_type": "code",
      "source": [
        "songDetails"
      ],
      "metadata": {
        "colab": {
          "base_uri": "https://localhost:8080/",
          "height": 739
        },
        "id": "xq6TUJq7GCYx",
        "outputId": "ccbe137c-603d-41bc-bb02-feddaf120b31"
      },
      "execution_count": null,
      "outputs": [
        {
          "output_type": "execute_result",
          "data": {
            "text/plain": [
              "                                          Album Names\n",
              "1                              Red (Taylor’s Version)\n",
              "2                         Fearless (Taylor’s Version)\n",
              "3                                            evermore\n",
              "4                                            folklore\n",
              "5                                               Lover\n",
              "6                                          reputation\n",
              "7                                       1989 (Deluxe)\n",
              "8                                           Speak Now\n",
              "9                                        Taylor Swift\n",
              "10                                          Positions\n",
              "11                                      thank u, next\n",
              "12                                          Sweetener\n",
              "13                                    Dangerous Woman\n",
              "14                                      My Everything\n",
              "15                                        Yours Truly\n",
              "16                                              Manic\n",
              "17                             You Signed Up For This\n",
              "18  Trying: Season 2 (Apple TV+ Original Series So...\n",
              "19         It’s Your Bed Babe, It’s Your Funeral - EP\n",
              "20                 Dressed Too Nice for a Jacket - EP\n",
              "21                         This Is What It Feels Like\n",
              "22                                              minor"
            ],
            "text/html": [
              "\n",
              "  <div id=\"df-e6a69017-8f28-41b2-b79b-b9b01f374863\">\n",
              "    <div class=\"colab-df-container\">\n",
              "      <div>\n",
              "<style scoped>\n",
              "    .dataframe tbody tr th:only-of-type {\n",
              "        vertical-align: middle;\n",
              "    }\n",
              "\n",
              "    .dataframe tbody tr th {\n",
              "        vertical-align: top;\n",
              "    }\n",
              "\n",
              "    .dataframe thead th {\n",
              "        text-align: right;\n",
              "    }\n",
              "</style>\n",
              "<table border=\"1\" class=\"dataframe\">\n",
              "  <thead>\n",
              "    <tr style=\"text-align: right;\">\n",
              "      <th></th>\n",
              "      <th>Album Names</th>\n",
              "    </tr>\n",
              "  </thead>\n",
              "  <tbody>\n",
              "    <tr>\n",
              "      <th>1</th>\n",
              "      <td>Red (Taylor’s Version)</td>\n",
              "    </tr>\n",
              "    <tr>\n",
              "      <th>2</th>\n",
              "      <td>Fearless (Taylor’s Version)</td>\n",
              "    </tr>\n",
              "    <tr>\n",
              "      <th>3</th>\n",
              "      <td>evermore</td>\n",
              "    </tr>\n",
              "    <tr>\n",
              "      <th>4</th>\n",
              "      <td>folklore</td>\n",
              "    </tr>\n",
              "    <tr>\n",
              "      <th>5</th>\n",
              "      <td>Lover</td>\n",
              "    </tr>\n",
              "    <tr>\n",
              "      <th>6</th>\n",
              "      <td>reputation</td>\n",
              "    </tr>\n",
              "    <tr>\n",
              "      <th>7</th>\n",
              "      <td>1989 (Deluxe)</td>\n",
              "    </tr>\n",
              "    <tr>\n",
              "      <th>8</th>\n",
              "      <td>Speak Now</td>\n",
              "    </tr>\n",
              "    <tr>\n",
              "      <th>9</th>\n",
              "      <td>Taylor Swift</td>\n",
              "    </tr>\n",
              "    <tr>\n",
              "      <th>10</th>\n",
              "      <td>Positions</td>\n",
              "    </tr>\n",
              "    <tr>\n",
              "      <th>11</th>\n",
              "      <td>thank u, next</td>\n",
              "    </tr>\n",
              "    <tr>\n",
              "      <th>12</th>\n",
              "      <td>Sweetener</td>\n",
              "    </tr>\n",
              "    <tr>\n",
              "      <th>13</th>\n",
              "      <td>Dangerous Woman</td>\n",
              "    </tr>\n",
              "    <tr>\n",
              "      <th>14</th>\n",
              "      <td>My Everything</td>\n",
              "    </tr>\n",
              "    <tr>\n",
              "      <th>15</th>\n",
              "      <td>Yours Truly</td>\n",
              "    </tr>\n",
              "    <tr>\n",
              "      <th>16</th>\n",
              "      <td>Manic</td>\n",
              "    </tr>\n",
              "    <tr>\n",
              "      <th>17</th>\n",
              "      <td>You Signed Up For This</td>\n",
              "    </tr>\n",
              "    <tr>\n",
              "      <th>18</th>\n",
              "      <td>Trying: Season 2 (Apple TV+ Original Series So...</td>\n",
              "    </tr>\n",
              "    <tr>\n",
              "      <th>19</th>\n",
              "      <td>It’s Your Bed Babe, It’s Your Funeral - EP</td>\n",
              "    </tr>\n",
              "    <tr>\n",
              "      <th>20</th>\n",
              "      <td>Dressed Too Nice for a Jacket - EP</td>\n",
              "    </tr>\n",
              "    <tr>\n",
              "      <th>21</th>\n",
              "      <td>This Is What It Feels Like</td>\n",
              "    </tr>\n",
              "    <tr>\n",
              "      <th>22</th>\n",
              "      <td>minor</td>\n",
              "    </tr>\n",
              "  </tbody>\n",
              "</table>\n",
              "</div>\n",
              "      <button class=\"colab-df-convert\" onclick=\"convertToInteractive('df-e6a69017-8f28-41b2-b79b-b9b01f374863')\"\n",
              "              title=\"Convert this dataframe to an interactive table.\"\n",
              "              style=\"display:none;\">\n",
              "        \n",
              "  <svg xmlns=\"http://www.w3.org/2000/svg\" height=\"24px\"viewBox=\"0 0 24 24\"\n",
              "       width=\"24px\">\n",
              "    <path d=\"M0 0h24v24H0V0z\" fill=\"none\"/>\n",
              "    <path d=\"M18.56 5.44l.94 2.06.94-2.06 2.06-.94-2.06-.94-.94-2.06-.94 2.06-2.06.94zm-11 1L8.5 8.5l.94-2.06 2.06-.94-2.06-.94L8.5 2.5l-.94 2.06-2.06.94zm10 10l.94 2.06.94-2.06 2.06-.94-2.06-.94-.94-2.06-.94 2.06-2.06.94z\"/><path d=\"M17.41 7.96l-1.37-1.37c-.4-.4-.92-.59-1.43-.59-.52 0-1.04.2-1.43.59L10.3 9.45l-7.72 7.72c-.78.78-.78 2.05 0 2.83L4 21.41c.39.39.9.59 1.41.59.51 0 1.02-.2 1.41-.59l7.78-7.78 2.81-2.81c.8-.78.8-2.07 0-2.86zM5.41 20L4 18.59l7.72-7.72 1.47 1.35L5.41 20z\"/>\n",
              "  </svg>\n",
              "      </button>\n",
              "      \n",
              "  <style>\n",
              "    .colab-df-container {\n",
              "      display:flex;\n",
              "      flex-wrap:wrap;\n",
              "      gap: 12px;\n",
              "    }\n",
              "\n",
              "    .colab-df-convert {\n",
              "      background-color: #E8F0FE;\n",
              "      border: none;\n",
              "      border-radius: 50%;\n",
              "      cursor: pointer;\n",
              "      display: none;\n",
              "      fill: #1967D2;\n",
              "      height: 32px;\n",
              "      padding: 0 0 0 0;\n",
              "      width: 32px;\n",
              "    }\n",
              "\n",
              "    .colab-df-convert:hover {\n",
              "      background-color: #E2EBFA;\n",
              "      box-shadow: 0px 1px 2px rgba(60, 64, 67, 0.3), 0px 1px 3px 1px rgba(60, 64, 67, 0.15);\n",
              "      fill: #174EA6;\n",
              "    }\n",
              "\n",
              "    [theme=dark] .colab-df-convert {\n",
              "      background-color: #3B4455;\n",
              "      fill: #D2E3FC;\n",
              "    }\n",
              "\n",
              "    [theme=dark] .colab-df-convert:hover {\n",
              "      background-color: #434B5C;\n",
              "      box-shadow: 0px 1px 3px 1px rgba(0, 0, 0, 0.15);\n",
              "      filter: drop-shadow(0px 1px 2px rgba(0, 0, 0, 0.3));\n",
              "      fill: #FFFFFF;\n",
              "    }\n",
              "  </style>\n",
              "\n",
              "      <script>\n",
              "        const buttonEl =\n",
              "          document.querySelector('#df-e6a69017-8f28-41b2-b79b-b9b01f374863 button.colab-df-convert');\n",
              "        buttonEl.style.display =\n",
              "          google.colab.kernel.accessAllowed ? 'block' : 'none';\n",
              "\n",
              "        async function convertToInteractive(key) {\n",
              "          const element = document.querySelector('#df-e6a69017-8f28-41b2-b79b-b9b01f374863');\n",
              "          const dataTable =\n",
              "            await google.colab.kernel.invokeFunction('convertToInteractive',\n",
              "                                                     [key], {});\n",
              "          if (!dataTable) return;\n",
              "\n",
              "          const docLinkHtml = 'Like what you see? Visit the ' +\n",
              "            '<a target=\"_blank\" href=https://colab.research.google.com/notebooks/data_table.ipynb>data table notebook</a>'\n",
              "            + ' to learn more about interactive tables.';\n",
              "          element.innerHTML = '';\n",
              "          dataTable['output_type'] = 'display_data';\n",
              "          await google.colab.output.renderOutput(dataTable, element);\n",
              "          const docLink = document.createElement('div');\n",
              "          docLink.innerHTML = docLinkHtml;\n",
              "          element.appendChild(docLink);\n",
              "        }\n",
              "      </script>\n",
              "    </div>\n",
              "  </div>\n",
              "  "
            ]
          },
          "metadata": {},
          "execution_count": 36
        }
      ]
    },
    {
      "cell_type": "markdown",
      "metadata": {
        "id": "JuVZ4nPPPG4q"
      },
      "source": [
        "Retrieving all song names and IDs from each album from Genius"
      ]
    },
    {
      "cell_type": "code",
      "execution_count": null,
      "metadata": {
        "id": "RUTr6ztSKnip"
      },
      "outputs": [],
      "source": [
        "songIDs = []\n",
        "songCount = []\n",
        "songNames = []\n",
        "for ID in albumIDs :\n",
        "    counter = 0\n",
        "    albumSongs = genius.album_tracks( album_id = ID )\n",
        "    for song in albumSongs['tracks'] :          \n",
        "        songNames.append( song['song']['title'].replace( \"\\u200b\", \"\" ))\n",
        "        songIDs.append( song['song']['id'] )\n",
        "        counter += 1\n",
        "    songCount.append(counter)"
      ]
    },
    {
      "cell_type": "code",
      "source": [
        "len(songIDs) #Total number of songs used"
      ],
      "metadata": {
        "colab": {
          "base_uri": "https://localhost:8080/"
        },
        "id": "DOrcVcxSKZbR",
        "outputId": "ffd42e14-d31f-4755-eb4a-f50b6a9349c0"
      },
      "execution_count": null,
      "outputs": [
        {
          "output_type": "execute_result",
          "data": {
            "text/plain": [
              "332"
            ]
          },
          "metadata": {},
          "execution_count": 38
        }
      ]
    },
    {
      "cell_type": "code",
      "source": [
        "songDetails[\"Total Songs\"] = songCount\n",
        "songDetails"
      ],
      "metadata": {
        "colab": {
          "base_uri": "https://localhost:8080/",
          "height": 739
        },
        "id": "RBN_52LQI1_U",
        "outputId": "e2e7838a-db76-4554-dfa2-d39d0bd5bf5e"
      },
      "execution_count": null,
      "outputs": [
        {
          "output_type": "execute_result",
          "data": {
            "text/plain": [
              "                                          Album Names  Total Songs\n",
              "1                              Red (Taylor’s Version)           31\n",
              "2                         Fearless (Taylor’s Version)           27\n",
              "3                                            evermore           15\n",
              "4                                            folklore           16\n",
              "5                                               Lover           18\n",
              "6                                          reputation           19\n",
              "7                                       1989 (Deluxe)           19\n",
              "8                                           Speak Now           15\n",
              "9                                        Taylor Swift           16\n",
              "10                                          Positions           14\n",
              "11                                      thank u, next           12\n",
              "12                                          Sweetener           15\n",
              "13                                    Dangerous Woman           15\n",
              "14                                      My Everything           18\n",
              "15                                        Yours Truly           12\n",
              "16                                              Manic           16\n",
              "17                             You Signed Up For This           14\n",
              "18  Trying: Season 2 (Apple TV+ Original Series So...            9\n",
              "19         It’s Your Bed Babe, It’s Your Funeral - EP            6\n",
              "20                 Dressed Too Nice for a Jacket - EP            6\n",
              "21                         This Is What It Feels Like           12\n",
              "22                                              minor            7"
            ],
            "text/html": [
              "\n",
              "  <div id=\"df-5fbae897-ee93-4e42-a908-906f2ca2f301\">\n",
              "    <div class=\"colab-df-container\">\n",
              "      <div>\n",
              "<style scoped>\n",
              "    .dataframe tbody tr th:only-of-type {\n",
              "        vertical-align: middle;\n",
              "    }\n",
              "\n",
              "    .dataframe tbody tr th {\n",
              "        vertical-align: top;\n",
              "    }\n",
              "\n",
              "    .dataframe thead th {\n",
              "        text-align: right;\n",
              "    }\n",
              "</style>\n",
              "<table border=\"1\" class=\"dataframe\">\n",
              "  <thead>\n",
              "    <tr style=\"text-align: right;\">\n",
              "      <th></th>\n",
              "      <th>Album Names</th>\n",
              "      <th>Total Songs</th>\n",
              "    </tr>\n",
              "  </thead>\n",
              "  <tbody>\n",
              "    <tr>\n",
              "      <th>1</th>\n",
              "      <td>Red (Taylor’s Version)</td>\n",
              "      <td>31</td>\n",
              "    </tr>\n",
              "    <tr>\n",
              "      <th>2</th>\n",
              "      <td>Fearless (Taylor’s Version)</td>\n",
              "      <td>27</td>\n",
              "    </tr>\n",
              "    <tr>\n",
              "      <th>3</th>\n",
              "      <td>evermore</td>\n",
              "      <td>15</td>\n",
              "    </tr>\n",
              "    <tr>\n",
              "      <th>4</th>\n",
              "      <td>folklore</td>\n",
              "      <td>16</td>\n",
              "    </tr>\n",
              "    <tr>\n",
              "      <th>5</th>\n",
              "      <td>Lover</td>\n",
              "      <td>18</td>\n",
              "    </tr>\n",
              "    <tr>\n",
              "      <th>6</th>\n",
              "      <td>reputation</td>\n",
              "      <td>19</td>\n",
              "    </tr>\n",
              "    <tr>\n",
              "      <th>7</th>\n",
              "      <td>1989 (Deluxe)</td>\n",
              "      <td>19</td>\n",
              "    </tr>\n",
              "    <tr>\n",
              "      <th>8</th>\n",
              "      <td>Speak Now</td>\n",
              "      <td>15</td>\n",
              "    </tr>\n",
              "    <tr>\n",
              "      <th>9</th>\n",
              "      <td>Taylor Swift</td>\n",
              "      <td>16</td>\n",
              "    </tr>\n",
              "    <tr>\n",
              "      <th>10</th>\n",
              "      <td>Positions</td>\n",
              "      <td>14</td>\n",
              "    </tr>\n",
              "    <tr>\n",
              "      <th>11</th>\n",
              "      <td>thank u, next</td>\n",
              "      <td>12</td>\n",
              "    </tr>\n",
              "    <tr>\n",
              "      <th>12</th>\n",
              "      <td>Sweetener</td>\n",
              "      <td>15</td>\n",
              "    </tr>\n",
              "    <tr>\n",
              "      <th>13</th>\n",
              "      <td>Dangerous Woman</td>\n",
              "      <td>15</td>\n",
              "    </tr>\n",
              "    <tr>\n",
              "      <th>14</th>\n",
              "      <td>My Everything</td>\n",
              "      <td>18</td>\n",
              "    </tr>\n",
              "    <tr>\n",
              "      <th>15</th>\n",
              "      <td>Yours Truly</td>\n",
              "      <td>12</td>\n",
              "    </tr>\n",
              "    <tr>\n",
              "      <th>16</th>\n",
              "      <td>Manic</td>\n",
              "      <td>16</td>\n",
              "    </tr>\n",
              "    <tr>\n",
              "      <th>17</th>\n",
              "      <td>You Signed Up For This</td>\n",
              "      <td>14</td>\n",
              "    </tr>\n",
              "    <tr>\n",
              "      <th>18</th>\n",
              "      <td>Trying: Season 2 (Apple TV+ Original Series So...</td>\n",
              "      <td>9</td>\n",
              "    </tr>\n",
              "    <tr>\n",
              "      <th>19</th>\n",
              "      <td>It’s Your Bed Babe, It’s Your Funeral - EP</td>\n",
              "      <td>6</td>\n",
              "    </tr>\n",
              "    <tr>\n",
              "      <th>20</th>\n",
              "      <td>Dressed Too Nice for a Jacket - EP</td>\n",
              "      <td>6</td>\n",
              "    </tr>\n",
              "    <tr>\n",
              "      <th>21</th>\n",
              "      <td>This Is What It Feels Like</td>\n",
              "      <td>12</td>\n",
              "    </tr>\n",
              "    <tr>\n",
              "      <th>22</th>\n",
              "      <td>minor</td>\n",
              "      <td>7</td>\n",
              "    </tr>\n",
              "  </tbody>\n",
              "</table>\n",
              "</div>\n",
              "      <button class=\"colab-df-convert\" onclick=\"convertToInteractive('df-5fbae897-ee93-4e42-a908-906f2ca2f301')\"\n",
              "              title=\"Convert this dataframe to an interactive table.\"\n",
              "              style=\"display:none;\">\n",
              "        \n",
              "  <svg xmlns=\"http://www.w3.org/2000/svg\" height=\"24px\"viewBox=\"0 0 24 24\"\n",
              "       width=\"24px\">\n",
              "    <path d=\"M0 0h24v24H0V0z\" fill=\"none\"/>\n",
              "    <path d=\"M18.56 5.44l.94 2.06.94-2.06 2.06-.94-2.06-.94-.94-2.06-.94 2.06-2.06.94zm-11 1L8.5 8.5l.94-2.06 2.06-.94-2.06-.94L8.5 2.5l-.94 2.06-2.06.94zm10 10l.94 2.06.94-2.06 2.06-.94-2.06-.94-.94-2.06-.94 2.06-2.06.94z\"/><path d=\"M17.41 7.96l-1.37-1.37c-.4-.4-.92-.59-1.43-.59-.52 0-1.04.2-1.43.59L10.3 9.45l-7.72 7.72c-.78.78-.78 2.05 0 2.83L4 21.41c.39.39.9.59 1.41.59.51 0 1.02-.2 1.41-.59l7.78-7.78 2.81-2.81c.8-.78.8-2.07 0-2.86zM5.41 20L4 18.59l7.72-7.72 1.47 1.35L5.41 20z\"/>\n",
              "  </svg>\n",
              "      </button>\n",
              "      \n",
              "  <style>\n",
              "    .colab-df-container {\n",
              "      display:flex;\n",
              "      flex-wrap:wrap;\n",
              "      gap: 12px;\n",
              "    }\n",
              "\n",
              "    .colab-df-convert {\n",
              "      background-color: #E8F0FE;\n",
              "      border: none;\n",
              "      border-radius: 50%;\n",
              "      cursor: pointer;\n",
              "      display: none;\n",
              "      fill: #1967D2;\n",
              "      height: 32px;\n",
              "      padding: 0 0 0 0;\n",
              "      width: 32px;\n",
              "    }\n",
              "\n",
              "    .colab-df-convert:hover {\n",
              "      background-color: #E2EBFA;\n",
              "      box-shadow: 0px 1px 2px rgba(60, 64, 67, 0.3), 0px 1px 3px 1px rgba(60, 64, 67, 0.15);\n",
              "      fill: #174EA6;\n",
              "    }\n",
              "\n",
              "    [theme=dark] .colab-df-convert {\n",
              "      background-color: #3B4455;\n",
              "      fill: #D2E3FC;\n",
              "    }\n",
              "\n",
              "    [theme=dark] .colab-df-convert:hover {\n",
              "      background-color: #434B5C;\n",
              "      box-shadow: 0px 1px 3px 1px rgba(0, 0, 0, 0.15);\n",
              "      filter: drop-shadow(0px 1px 2px rgba(0, 0, 0, 0.3));\n",
              "      fill: #FFFFFF;\n",
              "    }\n",
              "  </style>\n",
              "\n",
              "      <script>\n",
              "        const buttonEl =\n",
              "          document.querySelector('#df-5fbae897-ee93-4e42-a908-906f2ca2f301 button.colab-df-convert');\n",
              "        buttonEl.style.display =\n",
              "          google.colab.kernel.accessAllowed ? 'block' : 'none';\n",
              "\n",
              "        async function convertToInteractive(key) {\n",
              "          const element = document.querySelector('#df-5fbae897-ee93-4e42-a908-906f2ca2f301');\n",
              "          const dataTable =\n",
              "            await google.colab.kernel.invokeFunction('convertToInteractive',\n",
              "                                                     [key], {});\n",
              "          if (!dataTable) return;\n",
              "\n",
              "          const docLinkHtml = 'Like what you see? Visit the ' +\n",
              "            '<a target=\"_blank\" href=https://colab.research.google.com/notebooks/data_table.ipynb>data table notebook</a>'\n",
              "            + ' to learn more about interactive tables.';\n",
              "          element.innerHTML = '';\n",
              "          dataTable['output_type'] = 'display_data';\n",
              "          await google.colab.output.renderOutput(dataTable, element);\n",
              "          const docLink = document.createElement('div');\n",
              "          docLink.innerHTML = docLinkHtml;\n",
              "          element.appendChild(docLink);\n",
              "        }\n",
              "      </script>\n",
              "    </div>\n",
              "  </div>\n",
              "  "
            ]
          },
          "metadata": {},
          "execution_count": 39
        }
      ]
    },
    {
      "cell_type": "markdown",
      "metadata": {
        "id": "cSkOoxgKPSRa"
      },
      "source": [
        "Writing all the lyrics to a text file"
      ]
    },
    {
      "cell_type": "code",
      "execution_count": null,
      "metadata": {
        "id": "Pb-gW9AqKrss"
      },
      "outputs": [],
      "source": [
        "with open( f'/content/drive/MyDrive/ACM_Project/lyrics.txt','w',encoding = \"utf8\" ) as file:\n",
        "    songLengths = pd.DataFrame(songNames, index = [list(range(1, len(songIDs) + 1))])\n",
        "    length = []\n",
        "    for ID in songIDs:\n",
        "        lyrics = genius.lyrics(song_id = ID, remove_section_headers = True) \n",
        "        file.write( lyrics )\n",
        "        length.append((len(lyrics.split())))\n"
      ]
    },
    {
      "cell_type": "code",
      "source": [
        "songLengths[\"Word Count\"] = length\n",
        "songLengths"
      ],
      "metadata": {
        "colab": {
          "base_uri": "https://localhost:8080/",
          "height": 424
        },
        "id": "wG78t_BfNtdO",
        "outputId": "b6a89011-f5d5-448a-ed66-014b74aa4453"
      },
      "execution_count": null,
      "outputs": [
        {
          "output_type": "execute_result",
          "data": {
            "text/plain": [
              "                                              0  Word Count\n",
              "1             State of Grace (Taylor’s Version)         371\n",
              "2                        Red (Taylor’s Version)         328\n",
              "3                Treacherous (Taylor’s Version)         264\n",
              "4    I Knew You Were Trouble (Taylor’s Version)         411\n",
              "5               All Too Well (Taylor’s Version)         471\n",
              "..                                          ...         ...\n",
              "328                                Under / Over         189\n",
              "329                                        tehe         202\n",
              "330                       I miss you, I’m sorry         325\n",
              "331                                Long Sleeves         322\n",
              "332                                       minor         219\n",
              "\n",
              "[332 rows x 2 columns]"
            ],
            "text/html": [
              "\n",
              "  <div id=\"df-fd42948f-01b9-4482-837e-8bba5cfc35f3\">\n",
              "    <div class=\"colab-df-container\">\n",
              "      <div>\n",
              "<style scoped>\n",
              "    .dataframe tbody tr th:only-of-type {\n",
              "        vertical-align: middle;\n",
              "    }\n",
              "\n",
              "    .dataframe tbody tr th {\n",
              "        vertical-align: top;\n",
              "    }\n",
              "\n",
              "    .dataframe thead th {\n",
              "        text-align: right;\n",
              "    }\n",
              "</style>\n",
              "<table border=\"1\" class=\"dataframe\">\n",
              "  <thead>\n",
              "    <tr style=\"text-align: right;\">\n",
              "      <th></th>\n",
              "      <th>0</th>\n",
              "      <th>Word Count</th>\n",
              "    </tr>\n",
              "  </thead>\n",
              "  <tbody>\n",
              "    <tr>\n",
              "      <th>1</th>\n",
              "      <td>State of Grace (Taylor’s Version)</td>\n",
              "      <td>371</td>\n",
              "    </tr>\n",
              "    <tr>\n",
              "      <th>2</th>\n",
              "      <td>Red (Taylor’s Version)</td>\n",
              "      <td>328</td>\n",
              "    </tr>\n",
              "    <tr>\n",
              "      <th>3</th>\n",
              "      <td>Treacherous (Taylor’s Version)</td>\n",
              "      <td>264</td>\n",
              "    </tr>\n",
              "    <tr>\n",
              "      <th>4</th>\n",
              "      <td>I Knew You Were Trouble (Taylor’s Version)</td>\n",
              "      <td>411</td>\n",
              "    </tr>\n",
              "    <tr>\n",
              "      <th>5</th>\n",
              "      <td>All Too Well (Taylor’s Version)</td>\n",
              "      <td>471</td>\n",
              "    </tr>\n",
              "    <tr>\n",
              "      <th>...</th>\n",
              "      <td>...</td>\n",
              "      <td>...</td>\n",
              "    </tr>\n",
              "    <tr>\n",
              "      <th>328</th>\n",
              "      <td>Under / Over</td>\n",
              "      <td>189</td>\n",
              "    </tr>\n",
              "    <tr>\n",
              "      <th>329</th>\n",
              "      <td>tehe</td>\n",
              "      <td>202</td>\n",
              "    </tr>\n",
              "    <tr>\n",
              "      <th>330</th>\n",
              "      <td>I miss you, I’m sorry</td>\n",
              "      <td>325</td>\n",
              "    </tr>\n",
              "    <tr>\n",
              "      <th>331</th>\n",
              "      <td>Long Sleeves</td>\n",
              "      <td>322</td>\n",
              "    </tr>\n",
              "    <tr>\n",
              "      <th>332</th>\n",
              "      <td>minor</td>\n",
              "      <td>219</td>\n",
              "    </tr>\n",
              "  </tbody>\n",
              "</table>\n",
              "<p>332 rows × 2 columns</p>\n",
              "</div>\n",
              "      <button class=\"colab-df-convert\" onclick=\"convertToInteractive('df-fd42948f-01b9-4482-837e-8bba5cfc35f3')\"\n",
              "              title=\"Convert this dataframe to an interactive table.\"\n",
              "              style=\"display:none;\">\n",
              "        \n",
              "  <svg xmlns=\"http://www.w3.org/2000/svg\" height=\"24px\"viewBox=\"0 0 24 24\"\n",
              "       width=\"24px\">\n",
              "    <path d=\"M0 0h24v24H0V0z\" fill=\"none\"/>\n",
              "    <path d=\"M18.56 5.44l.94 2.06.94-2.06 2.06-.94-2.06-.94-.94-2.06-.94 2.06-2.06.94zm-11 1L8.5 8.5l.94-2.06 2.06-.94-2.06-.94L8.5 2.5l-.94 2.06-2.06.94zm10 10l.94 2.06.94-2.06 2.06-.94-2.06-.94-.94-2.06-.94 2.06-2.06.94z\"/><path d=\"M17.41 7.96l-1.37-1.37c-.4-.4-.92-.59-1.43-.59-.52 0-1.04.2-1.43.59L10.3 9.45l-7.72 7.72c-.78.78-.78 2.05 0 2.83L4 21.41c.39.39.9.59 1.41.59.51 0 1.02-.2 1.41-.59l7.78-7.78 2.81-2.81c.8-.78.8-2.07 0-2.86zM5.41 20L4 18.59l7.72-7.72 1.47 1.35L5.41 20z\"/>\n",
              "  </svg>\n",
              "      </button>\n",
              "      \n",
              "  <style>\n",
              "    .colab-df-container {\n",
              "      display:flex;\n",
              "      flex-wrap:wrap;\n",
              "      gap: 12px;\n",
              "    }\n",
              "\n",
              "    .colab-df-convert {\n",
              "      background-color: #E8F0FE;\n",
              "      border: none;\n",
              "      border-radius: 50%;\n",
              "      cursor: pointer;\n",
              "      display: none;\n",
              "      fill: #1967D2;\n",
              "      height: 32px;\n",
              "      padding: 0 0 0 0;\n",
              "      width: 32px;\n",
              "    }\n",
              "\n",
              "    .colab-df-convert:hover {\n",
              "      background-color: #E2EBFA;\n",
              "      box-shadow: 0px 1px 2px rgba(60, 64, 67, 0.3), 0px 1px 3px 1px rgba(60, 64, 67, 0.15);\n",
              "      fill: #174EA6;\n",
              "    }\n",
              "\n",
              "    [theme=dark] .colab-df-convert {\n",
              "      background-color: #3B4455;\n",
              "      fill: #D2E3FC;\n",
              "    }\n",
              "\n",
              "    [theme=dark] .colab-df-convert:hover {\n",
              "      background-color: #434B5C;\n",
              "      box-shadow: 0px 1px 3px 1px rgba(0, 0, 0, 0.15);\n",
              "      filter: drop-shadow(0px 1px 2px rgba(0, 0, 0, 0.3));\n",
              "      fill: #FFFFFF;\n",
              "    }\n",
              "  </style>\n",
              "\n",
              "      <script>\n",
              "        const buttonEl =\n",
              "          document.querySelector('#df-fd42948f-01b9-4482-837e-8bba5cfc35f3 button.colab-df-convert');\n",
              "        buttonEl.style.display =\n",
              "          google.colab.kernel.accessAllowed ? 'block' : 'none';\n",
              "\n",
              "        async function convertToInteractive(key) {\n",
              "          const element = document.querySelector('#df-fd42948f-01b9-4482-837e-8bba5cfc35f3');\n",
              "          const dataTable =\n",
              "            await google.colab.kernel.invokeFunction('convertToInteractive',\n",
              "                                                     [key], {});\n",
              "          if (!dataTable) return;\n",
              "\n",
              "          const docLinkHtml = 'Like what you see? Visit the ' +\n",
              "            '<a target=\"_blank\" href=https://colab.research.google.com/notebooks/data_table.ipynb>data table notebook</a>'\n",
              "            + ' to learn more about interactive tables.';\n",
              "          element.innerHTML = '';\n",
              "          dataTable['output_type'] = 'display_data';\n",
              "          await google.colab.output.renderOutput(dataTable, element);\n",
              "          const docLink = document.createElement('div');\n",
              "          docLink.innerHTML = docLinkHtml;\n",
              "          element.appendChild(docLink);\n",
              "        }\n",
              "      </script>\n",
              "    </div>\n",
              "  </div>\n",
              "  "
            ]
          },
          "metadata": {},
          "execution_count": 41
        }
      ]
    },
    {
      "cell_type": "markdown",
      "metadata": {
        "id": "jOCfUtABdIrP"
      },
      "source": [
        "Importing libraries"
      ]
    },
    {
      "cell_type": "code",
      "execution_count": null,
      "metadata": {
        "id": "ki-LARAWLkta"
      },
      "outputs": [],
      "source": [
        "import tensorflow as tf\n",
        "from tensorflow.keras.preprocessing.text import Tokenizer\n",
        "from tensorflow.keras.layers import Embedding, LSTM, Dense\n",
        "from tensorflow.keras.models import Sequential\n",
        "from tensorflow.keras.utils import to_categorical\n",
        "from tensorflow.keras.optimizers import Adam\n",
        "import pickle\n",
        "import numpy as np\n",
        "from matplotlib import pyplot as plt"
      ]
    },
    {
      "cell_type": "code",
      "execution_count": null,
      "metadata": {
        "id": "UKMZ5fCTLntr"
      },
      "outputs": [],
      "source": [
        "file = open(f\"/content/drive/MyDrive/ACM_Project/lyrics.txt\", \"r\", encoding = \"utf8\")\n",
        "lines = []\n",
        "for i in file:\n",
        "    lines.append(i)"
      ]
    },
    {
      "cell_type": "code",
      "execution_count": null,
      "metadata": {
        "id": "WVrmHnCsLqsu"
      },
      "outputs": [],
      "source": [
        "data = \"\"\n",
        "for i in lines:\n",
        "    data = ' '. join(lines)    \n",
        "data = data.replace('\\n', '').replace('\\r', '').replace('\\ufeff', '')"
      ]
    },
    {
      "cell_type": "code",
      "execution_count": null,
      "metadata": {
        "id": "cK-gUfTGNWfW"
      },
      "outputs": [],
      "source": [
        "tokenizer = Tokenizer()\n",
        "tokenizer.fit_on_texts([data])\n",
        "\n",
        "# saving the tokenizer for predict function.\n",
        "pickle.dump(tokenizer, open('/content/drive/MyDrive/ACM_Project/tokenizer1.pkl', 'wb'))\n",
        "\n",
        "sequence_data = tokenizer.texts_to_sequences([data])[0]"
      ]
    },
    {
      "cell_type": "code",
      "execution_count": null,
      "metadata": {
        "colab": {
          "base_uri": "https://localhost:8080/"
        },
        "id": "fneAyw_nPOSV",
        "outputId": "1ba5af96-057a-481f-cee2-a73036fbd5bb"
      },
      "outputs": [
        {
          "output_type": "stream",
          "name": "stdout",
          "text": [
            "5945\n"
          ]
        }
      ],
      "source": [
        "vocab_size = len(tokenizer.word_index) + 1\n",
        "print(vocab_size)"
      ]
    },
    {
      "cell_type": "code",
      "execution_count": null,
      "metadata": {
        "id": "0tdrsQo_Pbsq"
      },
      "outputs": [],
      "source": [
        "sequences = []\n",
        "\n",
        "for i in range(5, len(sequence_data)):\n",
        "    words = sequence_data[i-5:i+1]\n",
        "    sequences.append(words)\n",
        "sequences = np.array(sequences)"
      ]
    },
    {
      "cell_type": "code",
      "execution_count": null,
      "metadata": {
        "id": "ahgjXjyOPrJj"
      },
      "outputs": [],
      "source": [
        "X = []\n",
        "y = []\n",
        "\n",
        "for i in sequences:\n",
        "    X.append(i[0:5])\n",
        "    y.append(i[5])\n",
        "    \n",
        "X = np.array(X)\n",
        "y = np.array(y)"
      ]
    },
    {
      "cell_type": "code",
      "execution_count": null,
      "metadata": {
        "colab": {
          "base_uri": "https://localhost:8080/"
        },
        "id": "zK81YQDVPuSz",
        "outputId": "da35fa94-ee56-4488-ec44-6589b4a372e3"
      },
      "outputs": [
        {
          "output_type": "stream",
          "name": "stdout",
          "text": [
            "The Data is:  [[ 729   15  906  301  253]\n",
            " [  15  906  301  253   68]\n",
            " [ 906  301  253   68   12]\n",
            " [ 301  253   68   12 1131]\n",
            " [ 253   68   12 1131  758]]\n",
            "The responses are:  [  68   12 1131  758  112]\n"
          ]
        }
      ],
      "source": [
        "print(\"The Data is: \", X[:5])\n",
        "print(\"The responses are: \", y[:5])"
      ]
    },
    {
      "cell_type": "code",
      "execution_count": null,
      "metadata": {
        "colab": {
          "base_uri": "https://localhost:8080/"
        },
        "id": "uCUrIZm9PzhV",
        "outputId": "53edc9f0-1b40-423c-e4a7-696e03d0d7d6"
      },
      "outputs": [
        {
          "output_type": "execute_result",
          "data": {
            "text/plain": [
              "array([[0., 0., 0., ..., 0., 0., 0.],\n",
              "       [0., 0., 0., ..., 0., 0., 0.],\n",
              "       [0., 0., 0., ..., 0., 0., 0.],\n",
              "       [0., 0., 0., ..., 0., 0., 0.],\n",
              "       [0., 0., 0., ..., 0., 0., 0.]], dtype=float32)"
            ]
          },
          "metadata": {},
          "execution_count": 50
        }
      ],
      "source": [
        "y = to_categorical(y, num_classes=vocab_size)\n",
        "y[:5]"
      ]
    },
    {
      "cell_type": "code",
      "execution_count": null,
      "metadata": {
        "id": "V6_YkBAKP4Wa"
      },
      "outputs": [],
      "source": [
        "model = Sequential()\n",
        "model.add(Embedding(vocab_size, 10, input_length=5))\n",
        "model.add(LSTM(1000, return_sequences=True))\n",
        "model.add(LSTM(1000))\n",
        "model.add(Dense(1000, activation=\"relu\"))\n",
        "model.add(Dense(vocab_size, activation=\"softmax\"))"
      ]
    },
    {
      "cell_type": "code",
      "execution_count": null,
      "metadata": {
        "colab": {
          "base_uri": "https://localhost:8080/"
        },
        "id": "6hQU1o9kP8bh",
        "outputId": "75a49b11-494d-41c9-b25a-513200975927"
      },
      "outputs": [
        {
          "output_type": "stream",
          "name": "stdout",
          "text": [
            "Model: \"sequential\"\n",
            "_________________________________________________________________\n",
            " Layer (type)                Output Shape              Param #   \n",
            "=================================================================\n",
            " embedding (Embedding)       (None, 5, 10)             59450     \n",
            "                                                                 \n",
            " lstm (LSTM)                 (None, 5, 1000)           4044000   \n",
            "                                                                 \n",
            " lstm_1 (LSTM)               (None, 1000)              8004000   \n",
            "                                                                 \n",
            " dense (Dense)               (None, 1000)              1001000   \n",
            "                                                                 \n",
            " dense_1 (Dense)             (None, 5945)              5950945   \n",
            "                                                                 \n",
            "=================================================================\n",
            "Total params: 19,059,395\n",
            "Trainable params: 19,059,395\n",
            "Non-trainable params: 0\n",
            "_________________________________________________________________\n"
          ]
        }
      ],
      "source": [
        "model.summary()"
      ]
    },
    {
      "cell_type": "code",
      "execution_count": null,
      "metadata": {
        "colab": {
          "base_uri": "https://localhost:8080/",
          "height": 564
        },
        "id": "TjDoquEpP_Ea",
        "outputId": "83ced00e-d17f-43ae-8538-e785a872c5cf"
      },
      "outputs": [
        {
          "output_type": "execute_result",
          "data": {
            "text/plain": [
              "<IPython.core.display.Image object>"
            ],
            "image/png": "[encoded data removed]"
          },
          "metadata": {},
          "execution_count": 53
        }
      ],
      "source": [
        "from tensorflow import keras\n",
        "from keras.utils.vis_utils import plot_model\n",
        "\n",
        "keras.utils.plot_model(model, to_file='/content/drive/MyDrive/ACM_Project/model.png', show_layer_names=True)"
      ]
    },
    {
      "cell_type": "code",
      "execution_count": null,
      "metadata": {
        "id": "S7cRcOJtQFta"
      },
      "outputs": [],
      "source": [
        "from tensorflow.keras.callbacks import ModelCheckpoint\n",
        "from tensorflow.keras.callbacks import ReduceLROnPlateau\n",
        "from tensorflow.keras.callbacks import TensorBoard\n",
        "\n",
        "checkpoint = ModelCheckpoint(\"/content/drive/MyDrive/ACM_Project/nextword1.h5\", monitor='loss', verbose=1,\n",
        "    save_best_only=True, mode='auto')\n",
        "\n",
        "reduce = ReduceLROnPlateau(monitor='loss', factor=0.2, patience=3, min_lr=0.0001, verbose = 1)\n",
        "\n",
        "# logdir = 'logsnextword1'\n",
        "# tensorboard_Visualization = TensorBoard(log_dir = logdir)"
      ]
    },
    {
      "cell_type": "code",
      "execution_count": null,
      "metadata": {
        "id": "gVoj2PGPQIGa"
      },
      "outputs": [],
      "source": [
        "model.compile(loss=\"categorical_crossentropy\", optimizer=Adam(lr=0.001), metrics = ['accuracy'])"
      ]
    },
    {
      "cell_type": "code",
      "execution_count": null,
      "metadata": {
        "colab": {
          "base_uri": "https://localhost:8080/"
        },
        "id": "EP8-4nrRQKNQ",
        "outputId": "0f9c6651-48c0-4236-ec55-b835998ddd9e"
      },
      "outputs": [
        {
          "output_type": "stream",
          "name": "stdout",
          "text": [
            "Epoch 1/30\n",
            "3909/3909 [==============================] - ETA: 0s - loss: 5.7914 - accuracy: 0.0722\n",
            "Epoch 1: loss improved from inf to 5.79138, saving model to /content/drive/MyDrive/ACM_Project/nextword1.h5\n",
            "3909/3909 [==============================] - 68s 15ms/step - loss: 5.7914 - accuracy: 0.0722 - lr: 0.0010\n",
            "Epoch 2/30\n",
            "3908/3909 [============================>.] - ETA: 0s - loss: 5.1549 - accuracy: 0.1185\n",
            "Epoch 2: loss improved from 5.79138 to 5.15487, saving model to /content/drive/MyDrive/ACM_Project/nextword1.h5\n",
            "3909/3909 [==============================] - 61s 15ms/step - loss: 5.1549 - accuracy: 0.1185 - lr: 0.0010\n",
            "Epoch 3/30\n",
            "3908/3909 [============================>.] - ETA: 0s - loss: 4.7206 - accuracy: 0.1544\n",
            "Epoch 3: loss improved from 5.15487 to 4.72063, saving model to /content/drive/MyDrive/ACM_Project/nextword1.h5\n",
            "3909/3909 [==============================] - 61s 15ms/step - loss: 4.7206 - accuracy: 0.1544 - lr: 0.0010\n",
            "Epoch 4/30\n",
            "3908/3909 [============================>.] - ETA: 0s - loss: 4.3266 - accuracy: 0.1914\n",
            "Epoch 4: loss improved from 4.72063 to 4.32656, saving model to /content/drive/MyDrive/ACM_Project/nextword1.h5\n",
            "3909/3909 [==============================] - 61s 16ms/step - loss: 4.3266 - accuracy: 0.1914 - lr: 0.0010\n",
            "Epoch 5/30\n",
            "3907/3909 [============================>.] - ETA: 0s - loss: 3.9119 - accuracy: 0.2381\n",
            "Epoch 5: loss improved from 4.32656 to 3.91169, saving model to /content/drive/MyDrive/ACM_Project/nextword1.h5\n",
            "3909/3909 [==============================] - 61s 16ms/step - loss: 3.9117 - accuracy: 0.2381 - lr: 0.0010\n",
            "Epoch 6/30\n",
            "3908/3909 [============================>.] - ETA: 0s - loss: 3.4588 - accuracy: 0.3000\n",
            "Epoch 6: loss improved from 3.91169 to 3.45875, saving model to /content/drive/MyDrive/ACM_Project/nextword1.h5\n",
            "3909/3909 [==============================] - 61s 16ms/step - loss: 3.4587 - accuracy: 0.3000 - lr: 0.0010\n",
            "Epoch 7/30\n",
            "3909/3909 [==============================] - ETA: 0s - loss: 2.9631 - accuracy: 0.3772\n",
            "Epoch 7: loss improved from 3.45875 to 2.96308, saving model to /content/drive/MyDrive/ACM_Project/nextword1.h5\n",
            "3909/3909 [==============================] - 61s 16ms/step - loss: 2.9631 - accuracy: 0.3772 - lr: 0.0010\n",
            "Epoch 8/30\n",
            "3908/3909 [============================>.] - ETA: 0s - loss: 2.4465 - accuracy: 0.4649\n",
            "Epoch 8: loss improved from 2.96308 to 2.44642, saving model to /content/drive/MyDrive/ACM_Project/nextword1.h5\n",
            "3909/3909 [==============================] - 61s 16ms/step - loss: 2.4464 - accuracy: 0.4649 - lr: 0.0010\n",
            "Epoch 9/30\n",
            "3907/3909 [============================>.] - ETA: 0s - loss: 1.9486 - accuracy: 0.5545\n",
            "Epoch 9: loss improved from 2.44642 to 1.94840, saving model to /content/drive/MyDrive/ACM_Project/nextword1.h5\n",
            "3909/3909 [==============================] - 62s 16ms/step - loss: 1.9484 - accuracy: 0.5546 - lr: 0.0010\n",
            "Epoch 10/30\n",
            "3908/3909 [============================>.] - ETA: 0s - loss: 1.5030 - accuracy: 0.6412\n",
            "Epoch 10: loss improved from 1.94840 to 1.50319, saving model to /content/drive/MyDrive/ACM_Project/nextword1.h5\n",
            "3909/3909 [==============================] - 61s 16ms/step - loss: 1.5032 - accuracy: 0.6412 - lr: 0.0010\n",
            "Epoch 11/30\n",
            "3909/3909 [==============================] - ETA: 0s - loss: 1.1301 - accuracy: 0.7234\n",
            "Epoch 11: loss improved from 1.50319 to 1.13005, saving model to /content/drive/MyDrive/ACM_Project/nextword1.h5\n",
            "3909/3909 [==============================] - 62s 16ms/step - loss: 1.1301 - accuracy: 0.7234 - lr: 0.0010\n",
            "Epoch 12/30\n",
            "3909/3909 [==============================] - ETA: 0s - loss: 0.8508 - accuracy: 0.7878\n",
            "Epoch 12: loss improved from 1.13005 to 0.85078, saving model to /content/drive/MyDrive/ACM_Project/nextword1.h5\n",
            "3909/3909 [==============================] - 61s 16ms/step - loss: 0.8508 - accuracy: 0.7878 - lr: 0.0010\n",
            "Epoch 13/30\n",
            "3909/3909 [==============================] - ETA: 0s - loss: 0.6504 - accuracy: 0.8378\n",
            "Epoch 13: loss improved from 0.85078 to 0.65041, saving model to /content/drive/MyDrive/ACM_Project/nextword1.h5\n",
            "3909/3909 [==============================] - 61s 16ms/step - loss: 0.6504 - accuracy: 0.8378 - lr: 0.0010\n",
            "Epoch 14/30\n",
            "3907/3909 [============================>.] - ETA: 0s - loss: 0.5178 - accuracy: 0.8692\n",
            "Epoch 14: loss improved from 0.65041 to 0.51778, saving model to /content/drive/MyDrive/ACM_Project/nextword1.h5\n",
            "3909/3909 [==============================] - 61s 16ms/step - loss: 0.5178 - accuracy: 0.8692 - lr: 0.0010\n",
            "Epoch 15/30\n",
            "3909/3909 [==============================] - ETA: 0s - loss: 0.4313 - accuracy: 0.8920\n",
            "Epoch 15: loss improved from 0.51778 to 0.43134, saving model to /content/drive/MyDrive/ACM_Project/nextword1.h5\n",
            "3909/3909 [==============================] - 61s 16ms/step - loss: 0.4313 - accuracy: 0.8920 - lr: 0.0010\n",
            "Epoch 16/30\n",
            "3907/3909 [============================>.] - ETA: 0s - loss: 0.3755 - accuracy: 0.9057\n",
            "Epoch 16: loss improved from 0.43134 to 0.37543, saving model to /content/drive/MyDrive/ACM_Project/nextword1.h5\n",
            "3909/3909 [==============================] - 61s 16ms/step - loss: 0.3754 - accuracy: 0.9057 - lr: 0.0010\n",
            "Epoch 17/30\n",
            "3906/3909 [============================>.] - ETA: 0s - loss: 0.3419 - accuracy: 0.9144\n",
            "Epoch 17: loss improved from 0.37543 to 0.34183, saving model to /content/drive/MyDrive/ACM_Project/nextword1.h5\n",
            "3909/3909 [==============================] - 61s 16ms/step - loss: 0.3418 - accuracy: 0.9144 - lr: 0.0010\n",
            "Epoch 18/30\n",
            "3909/3909 [==============================] - ETA: 0s - loss: 0.3126 - accuracy: 0.9205\n",
            "Epoch 18: loss improved from 0.34183 to 0.31263, saving model to /content/drive/MyDrive/ACM_Project/nextword1.h5\n",
            "3909/3909 [==============================] - 61s 16ms/step - loss: 0.3126 - accuracy: 0.9205 - lr: 0.0010\n",
            "Epoch 19/30\n",
            "3906/3909 [============================>.] - ETA: 0s - loss: 0.2907 - accuracy: 0.9258\n",
            "Epoch 19: loss improved from 0.31263 to 0.29067, saving model to /content/drive/MyDrive/ACM_Project/nextword1.h5\n",
            "3909/3909 [==============================] - 61s 16ms/step - loss: 0.2907 - accuracy: 0.9258 - lr: 0.0010\n",
            "Epoch 20/30\n",
            "3909/3909 [==============================] - ETA: 0s - loss: 0.2786 - accuracy: 0.9274\n",
            "Epoch 20: loss improved from 0.29067 to 0.27859, saving model to /content/drive/MyDrive/ACM_Project/nextword1.h5\n",
            "3909/3909 [==============================] - 61s 16ms/step - loss: 0.2786 - accuracy: 0.9274 - lr: 0.0010\n",
            "Epoch 21/30\n",
            "3909/3909 [==============================] - ETA: 0s - loss: 0.2582 - accuracy: 0.9313\n",
            "Epoch 21: loss improved from 0.27859 to 0.25816, saving model to /content/drive/MyDrive/ACM_Project/nextword1.h5\n",
            "3909/3909 [==============================] - 61s 15ms/step - loss: 0.2582 - accuracy: 0.9313 - lr: 0.0010\n",
            "Epoch 22/30\n",
            "3909/3909 [==============================] - ETA: 0s - loss: 0.2506 - accuracy: 0.9324\n",
            "Epoch 22: loss improved from 0.25816 to 0.25057, saving model to /content/drive/MyDrive/ACM_Project/nextword1.h5\n",
            "3909/3909 [==============================] - 61s 15ms/step - loss: 0.2506 - accuracy: 0.9324 - lr: 0.0010\n",
            "Epoch 23/30\n",
            "3907/3909 [============================>.] - ETA: 0s - loss: 0.2373 - accuracy: 0.9347\n",
            "Epoch 23: loss improved from 0.25057 to 0.23720, saving model to /content/drive/MyDrive/ACM_Project/nextword1.h5\n",
            "3909/3909 [==============================] - 61s 16ms/step - loss: 0.2372 - accuracy: 0.9348 - lr: 0.0010\n",
            "Epoch 24/30\n",
            "3907/3909 [============================>.] - ETA: 0s - loss: 0.2312 - accuracy: 0.9357\n",
            "Epoch 24: loss improved from 0.23720 to 0.23127, saving model to /content/drive/MyDrive/ACM_Project/nextword1.h5\n",
            "3909/3909 [==============================] - 61s 16ms/step - loss: 0.2313 - accuracy: 0.9356 - lr: 0.0010\n",
            "Epoch 25/30\n",
            "3906/3909 [============================>.] - ETA: 0s - loss: 0.2215 - accuracy: 0.9367\n",
            "Epoch 25: loss improved from 0.23127 to 0.22158, saving model to /content/drive/MyDrive/ACM_Project/nextword1.h5\n",
            "3909/3909 [==============================] - 61s 16ms/step - loss: 0.2216 - accuracy: 0.9367 - lr: 0.0010\n",
            "Epoch 26/30\n",
            "3907/3909 [============================>.] - ETA: 0s - loss: 0.2147 - accuracy: 0.9377\n",
            "Epoch 26: loss improved from 0.22158 to 0.21472, saving model to /content/drive/MyDrive/ACM_Project/nextword1.h5\n",
            "3909/3909 [==============================] - 61s 16ms/step - loss: 0.2147 - accuracy: 0.9377 - lr: 0.0010\n",
            "Epoch 27/30\n",
            "3908/3909 [============================>.] - ETA: 0s - loss: 0.2129 - accuracy: 0.9384\n",
            "Epoch 27: loss improved from 0.21472 to 0.21285, saving model to /content/drive/MyDrive/ACM_Project/nextword1.h5\n",
            "3909/3909 [==============================] - 61s 16ms/step - loss: 0.2128 - accuracy: 0.9384 - lr: 0.0010\n",
            "Epoch 28/30\n",
            "3908/3909 [============================>.] - ETA: 0s - loss: 0.2025 - accuracy: 0.9395\n",
            "Epoch 28: loss improved from 0.21285 to 0.20251, saving model to /content/drive/MyDrive/ACM_Project/nextword1.h5\n",
            "3909/3909 [==============================] - 61s 16ms/step - loss: 0.2025 - accuracy: 0.9395 - lr: 0.0010\n",
            "Epoch 29/30\n",
            "3907/3909 [============================>.] - ETA: 0s - loss: 0.1998 - accuracy: 0.9403\n",
            "Epoch 29: loss improved from 0.20251 to 0.19976, saving model to /content/drive/MyDrive/ACM_Project/nextword1.h5\n",
            "3909/3909 [==============================] - 61s 16ms/step - loss: 0.1998 - accuracy: 0.9403 - lr: 0.0010\n",
            "Epoch 30/30\n",
            "3908/3909 [============================>.] - ETA: 0s - loss: 0.1952 - accuracy: 0.9406\n",
            "Epoch 30: loss improved from 0.19976 to 0.19523, saving model to /content/drive/MyDrive/ACM_Project/nextword1.h5\n",
            "3909/3909 [==============================] - 61s 16ms/step - loss: 0.1952 - accuracy: 0.9406 - lr: 0.0010\n"
          ]
        }
      ],
      "source": [
        "history = model.fit(X, y, epochs = 30, batch_size=32, callbacks=[checkpoint, reduce])"
      ]
    }
  ],
  "metadata": {
    "accelerator": "GPU",
    "colab": {
      "provenance": []
    },
    "gpuClass": "standard",
    "kernelspec": {
      "display_name": "Python 3",
      "name": "python3"
    },
    "language_info": {
      "name": "python"
    }
  },
  "nbformat": 4,
  "nbformat_minor": 0
}